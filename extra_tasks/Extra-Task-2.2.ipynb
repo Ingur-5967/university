{
  "nbformat": 4,
  "nbformat_minor": 0,
  "metadata": {
    "colab": {
      "provenance": [],
      "include_colab_link": true
    },
    "kernelspec": {
      "name": "python3",
      "display_name": "Python 3"
    },
    "language_info": {
      "name": "python"
    }
  },
  "cells": [
    {
      "cell_type": "markdown",
      "metadata": {
        "id": "view-in-github",
        "colab_type": "text"
      },
      "source": [
        "<a href=\"https://colab.research.google.com/github/Ingur-5967/university/blob/main/extra_tasks/Extra-Task-2.2.ipynb\" target=\"_parent\"><img src=\"https://colab.research.google.com/assets/colab-badge.svg\" alt=\"Open In Colab\"/></a>"
      ]
    },
    {
      "cell_type": "markdown",
      "source": [
        "# **Дополнительное задание №2.2. Замыкания. Декораторы. Итераторы. Генераторы**"
      ],
      "metadata": {
        "id": "AFKOdzjAKWYc"
      }
    },
    {
      "cell_type": "markdown",
      "source": [
        "**БАЗА:**\n",
        "\n",
        "- **Замыкания** позволяют создавать функции с сохраняющимся состоянием. Это полезно для создания фабричных функций и функций с настраиваемым поведением.\n",
        "- **Декораторы** позволяют модифицировать или расширять поведение функций без изменения их исходного кода."
      ],
      "metadata": {
        "id": "nBwTqfsSyaGg"
      }
    },
    {
      "cell_type": "markdown",
      "source": [
        "---"
      ],
      "metadata": {
        "id": "2VnR8e3twGfD"
      }
    },
    {
      "cell_type": "markdown",
      "source": [
        "## **I. Замыкания и декораторы**"
      ],
      "metadata": {
        "id": "_ZPLUks08b1-"
      }
    },
    {
      "cell_type": "markdown",
      "metadata": {
        "id": "eVsLMeozyshu"
      },
      "source": [
        "### **Пункт №1**\n",
        "\n",
        "Напишите две функции создания списка из чётных чисел от 0 до N (N – аргумент функции): \\([0, 2, 4, ..., N]\\).\n",
        "\n",
        "- **Первая функция** должна использовать метод `append` для добавления элементов в список.\n",
        "- **Вторая функция** должна использовать **генератор списков** (list comprehensions) для создания списка.\n",
        "\n",
        "После этого, через **декоратор**, определите время работы этих функций."
      ]
    },
    {
      "cell_type": "code",
      "source": [
        "import time\n",
        "\n",
        "def get_time(function):\n",
        "  def inner(*args):\n",
        "    start_time = time.time()\n",
        "    function(*args)\n",
        "    print(f'Время выполнения {time.time() - start_time}')\n",
        "    return function(*args)\n",
        "  return inner\n",
        "\n",
        "@get_time\n",
        "def append_function(N: int) -> list:\n",
        "  array = []\n",
        "  for value in range(0, N, 2):\n",
        "    array.append(value)\n",
        "  return array\n",
        "\n",
        "@get_time\n",
        "def generator_function(N: int) -> list:\n",
        "  return [value for value in range(0, N, 2)]\n",
        "\n",
        "print(append_function(10))\n",
        "print(generator_function(10))\n",
        "\n"
      ],
      "metadata": {
        "id": "04AwDHUyZe6F",
        "outputId": "0fd12768-c96f-4416-8241-8949c6e1ec36",
        "colab": {
          "base_uri": "https://localhost:8080/"
        }
      },
      "execution_count": 3,
      "outputs": [
        {
          "output_type": "stream",
          "name": "stdout",
          "text": [
            "Время выполнения 3.0994415283203125e-06\n",
            "[0, 2, 4, 6, 8]\n",
            "Время выполнения 4.5299530029296875e-06\n",
            "[0, 2, 4, 6, 8]\n"
          ]
        }
      ]
    },
    {
      "cell_type": "markdown",
      "source": [
        "---"
      ],
      "metadata": {
        "id": "_0Jy4QhEwGDd"
      }
    },
    {
      "cell_type": "markdown",
      "source": [
        "### **Пункт №2**\n",
        "\n",
        "Напишите **декоратор** для кэширования результатов работы функции, вычисляющей значение n-го числа [**ряда Фибоначчи**](https://ru.wikipedia.org/wiki/Числа_Фибоначчи).\n",
        "\n",
        "То есть, при повторном вызове функции через декоратор уже имеющийся результат должен браться из кэша, а не вычисляться заново.\n",
        "\n",
        "**Например:**\n",
        "\n",
        "- При значении параметра `n = 5`, должна кэшироваться последовательность \\([0, 1, 1, 2, 3, 5]\\).\n",
        "- Вызывая после этого целевую функцию через декоратор ещё раз с `n = 3`, результат \\([0, 1, 1, 2]\\) должен браться из кэша.\n",
        "- Если последующее значение `n` больше предыдущего, например `n = 10`, вычисление должно продолжаться, начиная с закэшированной последовательности.\n",
        "\n",
        "*Подсказка: используйте **замыкание** для хранения кэша внутри декоратора.*\n"
      ],
      "metadata": {
        "id": "DfDtOSmDl7ic"
      }
    },
    {
      "cell_type": "code",
      "source": [
        "def fib(n: int) -> int:\n",
        "    if n in [1, 2]:\n",
        "      return 1\n",
        "    return fib(n - 1) + fib(n - 2)\n",
        "\n",
        "def index_from_fib(value: int) -> int:\n",
        "  position = 0\n",
        "  while fib(position) != value:\n",
        "    position += 1\n",
        "  return position\n",
        "\n",
        "\n",
        "def cache(func):\n",
        "  cache = [0, 1]\n",
        "\n",
        "  def inner(n: int):\n",
        "\n",
        "    if n < len(cache): return cache[:n + 1]\n",
        "    for index in range(len(cache), n + 1):\n",
        "      cache.append(cache[index - 1] + cache[index - 2])\n",
        "    return cache\n",
        "  return inner\n",
        "\n",
        "@cache\n",
        "def testion_fib(n: int) -> int:\n",
        "  pass\n",
        "\n",
        "\n",
        "print(testion_fib(10))\n",
        "\n"
      ],
      "metadata": {
        "id": "CtbbsIBsZfHB",
        "outputId": "d996f3b0-32f6-4bbc-de7e-1dbdb38d6e8c",
        "colab": {
          "base_uri": "https://localhost:8080/"
        }
      },
      "execution_count": 2,
      "outputs": [
        {
          "output_type": "stream",
          "name": "stdout",
          "text": [
            "[0, 1, 1, 2, 3, 5, 8, 13, 21, 34, 55]\n"
          ]
        }
      ]
    },
    {
      "cell_type": "markdown",
      "source": [
        "---"
      ],
      "metadata": {
        "id": "CIiq8lr7wFkS"
      }
    },
    {
      "cell_type": "markdown",
      "source": [
        "### **Пункт №3**\n",
        "\n",
        "Примените к функции из задания №2 сразу **два декоратора**:\n",
        "\n",
        "1. **Декоратор**, определяющий время выполнения функции.\n",
        "2. **Кэширующий декоратор** (из задания №2).\n",
        "\n",
        "Сравните время работы функции с использованием кэширования и без него.\n"
      ],
      "metadata": {
        "id": "zY5zVHuifDve"
      }
    },
    {
      "cell_type": "code",
      "source": [
        "@get_time\n",
        "@cache\n",
        "def cached_fib(n: int):\n",
        "  pass\n",
        "\n",
        "@get_time\n",
        "def fib(n: int) -> int:\n",
        "    if n in [1, 2]:\n",
        "      return 1\n",
        "    return fib(n - 1) + fib(n - 2)\n",
        "\n",
        "print(cached_fib(20))\n",
        "print(cached_fib(10))\n",
        "\n",
        "print(fib(5))"
      ],
      "metadata": {
        "id": "dXuu8LJgg-0r",
        "outputId": "7134be7a-d858-499d-f545-c3c1949f4837",
        "colab": {
          "base_uri": "https://localhost:8080/"
        }
      },
      "execution_count": 7,
      "outputs": [
        {
          "output_type": "stream",
          "name": "stdout",
          "text": [
            "Время выполнения 7.867813110351562e-06\n",
            "[0, 1, 1, 2, 3, 5, 8, 13, 21, 34, 55, 89, 144, 233, 377, 610, 987, 1597, 2584, 4181, 6765]\n",
            "Время выполнения 1.9073486328125e-06\n",
            "[0, 1, 1, 2, 3, 5, 8, 13, 21, 34, 55]\n",
            "Время выполнения 9.5367431640625e-07\n",
            "Время выполнения 4.76837158203125e-07\n",
            "Время выполнения 7.510185241699219e-05\n",
            "Время выполнения 7.152557373046875e-07\n",
            "Время выполнения 7.152557373046875e-07\n",
            "Время выполнения 2.384185791015625e-07\n",
            "Время выполнения 0.0001437664031982422\n",
            "Время выполнения 4.76837158203125e-07\n",
            "Время выполнения 4.76837158203125e-07\n",
            "Время выполнения 3.218650817871094e-05\n",
            "Время выполнения 4.76837158203125e-07\n",
            "Время выполнения 4.76837158203125e-07\n",
            "Время выполнения 4.76837158203125e-07\n",
            "Время выполнения 2.384185791015625e-07\n",
            "Время выполнения 2.384185791015625e-07\n",
            "Время выполнения 5.0067901611328125e-05\n",
            "Время выполнения 2.384185791015625e-07\n",
            "Время выполнения 2.384185791015625e-07\n",
            "Время выполнения 0.0003554821014404297\n",
            "Время выполнения 2.384185791015625e-07\n",
            "Время выполнения 7.152557373046875e-07\n",
            "Время выполнения 4.410743713378906e-05\n",
            "Время выполнения 2.384185791015625e-07\n",
            "Время выполнения 4.76837158203125e-07\n",
            "Время выполнения 4.76837158203125e-07\n",
            "Время выполнения 0.00014090538024902344\n",
            "Время выполнения 4.76837158203125e-07\n",
            "Время выполнения 2.384185791015625e-07\n",
            "Время выполнения 3.62396240234375e-05\n",
            "Время выполнения 2.384185791015625e-07\n",
            "Время выполнения 4.76837158203125e-07\n",
            "Время выполнения 4.76837158203125e-07\n",
            "Время выполнения 2.384185791015625e-07\n",
            "Время выполнения 2.384185791015625e-07\n",
            "Время выполнения 3.1948089599609375e-05\n",
            "Время выполнения 2.384185791015625e-07\n",
            "Время выполнения 4.76837158203125e-07\n",
            "5\n"
          ]
        }
      ]
    },
    {
      "cell_type": "markdown",
      "source": [
        "---"
      ],
      "metadata": {
        "id": "fsSegPodwEwZ"
      }
    },
    {
      "cell_type": "markdown",
      "source": [
        "### **Пункт №4**\n",
        "\n",
        "Создайте функцию **make_multiplier(n)**, которая принимает число **n** и возвращает функцию, умножающую переданное ей число на **n**.\n",
        "\n",
        "**Пример использования:**\n",
        "\n",
        "```python\n",
        "def make_multiplier(n):\n",
        "    # Ваш код\n",
        "\n",
        "times3 = make_multiplier(3)\n",
        "print(times3(5))  # Вывод: 15\n",
        "```"
      ],
      "metadata": {
        "id": "Ap04UA6ZtoK1"
      }
    },
    {
      "cell_type": "code",
      "source": [
        "def make_multiplier(n):\n",
        "    def inner(value):\n",
        "      return n*value\n",
        "    return inner\n",
        "\n",
        "multiplier = make_multiplier(3)\n",
        "print(multiplier(5))  # Вывод: 15"
      ],
      "metadata": {
        "id": "HasdSjestowl",
        "outputId": "39685059-a6fa-4e5d-faa0-6301bab52214",
        "colab": {
          "base_uri": "https://localhost:8080/"
        }
      },
      "execution_count": null,
      "outputs": [
        {
          "output_type": "stream",
          "name": "stdout",
          "text": [
            "15\n"
          ]
        }
      ]
    },
    {
      "cell_type": "markdown",
      "source": [
        "---"
      ],
      "metadata": {
        "id": "MIPkER_LwD_0"
      }
    },
    {
      "cell_type": "markdown",
      "source": [
        "### **Пункт №5**\n",
        "\n",
        "Реализуйте функцию с замыканием, которая настраивает округление чисел до заданного количества знаков после запятой.\n",
        "\n",
        "**Пример:**\n",
        "\n",
        "```python\n",
        "def rounder(n):\n",
        "    # Ваш код\n",
        "\n",
        "round_to_2 = rounder(2)\n",
        "print(round_to_2(3.14159))  # Вывод: 3.14\n",
        "```\n"
      ],
      "metadata": {
        "id": "mTwh5dIqto8N"
      }
    },
    {
      "cell_type": "code",
      "source": [
        "def rounder(n):\n",
        "    def inner(value):\n",
        "      return round(value, n)\n",
        "    return inner\n",
        "\n",
        "round_to_2 = rounder(2)\n",
        "print(round_to_2(3.14159))  # Вывод: 3.14"
      ],
      "metadata": {
        "id": "zjlE-viztpDo",
        "outputId": "8a002e45-ce16-4e87-c355-0b8a61562b08",
        "colab": {
          "base_uri": "https://localhost:8080/"
        }
      },
      "execution_count": null,
      "outputs": [
        {
          "output_type": "stream",
          "name": "stdout",
          "text": [
            "3.14\n"
          ]
        }
      ]
    },
    {
      "cell_type": "markdown",
      "source": [
        "---"
      ],
      "metadata": {
        "id": "6u2MeXBiwAyf"
      }
    },
    {
      "cell_type": "markdown",
      "source": [
        "### **Пункт №6**\n",
        "\n",
        "Напишите **декоратор**, который измеряет время исполнения функции и выводит его на экран, только если время превышает определённый порог.\n",
        "\n",
        "**Пример:**\n",
        "\n",
        "```python\n",
        "@time_threshold(threshold=0.5)\n",
        "def long_running_function():\n",
        "    # Долгий код\n",
        "\n",
        "long_running_function()\n",
        "# Выводится время выполнения только если оно больше 0.5 секунд\n",
        "```"
      ],
      "metadata": {
        "id": "i5A4zQl5tpKJ"
      }
    },
    {
      "cell_type": "code",
      "source": [
        "import time\n",
        "\n",
        "def time_threshold(time_border):\n",
        "  def inner(function):\n",
        "    def d_inner(*args):\n",
        "      start_time = time.time()\n",
        "      function()\n",
        "      if time.time() - start_time > time_border:\n",
        "        print(f'Время выполнения {time.time() - start_time}')\n",
        "    return d_inner\n",
        "  return inner\n",
        "\n",
        "@time_threshold(time_border=0.5)\n",
        "def long_running_function():\n",
        "    array = []\n",
        "    for i in range(10**8):\n",
        "      array.append(i * 0.5)\n",
        "\n",
        "\n",
        "\n",
        "\n",
        "long_running_function()\n",
        "# Выводится время выполнения только если оно больше 0.5 секунд"
      ],
      "metadata": {
        "id": "LMGleXaetpP6",
        "outputId": "0ae5b227-6d53-4579-d3bd-ab2c20e6e008",
        "colab": {
          "base_uri": "https://localhost:8080/"
        }
      },
      "execution_count": null,
      "outputs": [
        {
          "output_type": "stream",
          "name": "stdout",
          "text": [
            "Время выполнения 18.382795333862305\n"
          ]
        }
      ]
    },
    {
      "cell_type": "markdown",
      "source": [
        "---"
      ],
      "metadata": {
        "id": "Ag0rUJm-wIK1"
      }
    },
    {
      "cell_type": "markdown",
      "source": [
        "## **II. Итераторы и генераторы**"
      ],
      "metadata": {
        "id": "tu5ZanR_8j_R"
      }
    },
    {
      "cell_type": "markdown",
      "source": [
        "---\n",
        "\n",
        "### **Пункт №1. Генератор строк фиксированной длины**\n",
        "\n",
        "Напишите генератор `string_generator(char, times)`, который генерирует строки, состоящие из символа `char`, повторенного от 1 до `times` раз.\n",
        "\n",
        "```python\n",
        "# Пример использования:\n",
        "for s in string_generator('*', 5):\n",
        "    print(s)\n",
        "# Вывод:\n",
        "# *\n",
        "# **\n",
        "# ***\n",
        "# ****\n",
        "# *****\n",
        "```\n",
        "\n"
      ],
      "metadata": {
        "id": "7KQ8huR-8C_4"
      }
    },
    {
      "cell_type": "markdown",
      "source": [
        "---"
      ],
      "metadata": {
        "id": "ktfqCVPY-Mlx"
      }
    },
    {
      "cell_type": "code",
      "source": [
        "def string_generator(default_string: str = '', repeat_count: int = 1):\n",
        "    counter = 0\n",
        "    while counter < repeat_count:\n",
        "        yield default_string\n",
        "        default_string += '*'\n",
        "        counter += 1\n",
        "\n",
        "for entry in string_generator('*', 5):\n",
        "    print(entry)"
      ],
      "metadata": {
        "id": "uvI-Ebqu98bW",
        "outputId": "5d6f0dd0-2d1b-4cba-922a-7f4c2ed26255",
        "colab": {
          "base_uri": "https://localhost:8080/"
        }
      },
      "execution_count": null,
      "outputs": [
        {
          "output_type": "stream",
          "name": "stdout",
          "text": [
            "*\n",
            "**\n",
            "***\n",
            "****\n",
            "*****\n"
          ]
        }
      ]
    },
    {
      "cell_type": "markdown",
      "source": [
        "---\n",
        "\n",
        "### **Пункт №2. Генератор бесконечной последовательности**\n",
        "\n",
        "Создайте бесконечный генератор `infinite_sequence()`, который с каждым вызовом возвращает следующее число, начиная с 1.\n",
        "\n",
        "```python\n",
        "# Пример использования:\n",
        "gen = infinite_sequence()\n",
        "for _ in range(5):\n",
        "    print(next(gen))\n",
        "# Вывод:\n",
        "# 1\n",
        "# 2\n",
        "# 3\n",
        "# 4\n",
        "# 5\n",
        "```\n",
        "\n",
        "---"
      ],
      "metadata": {
        "id": "zDtiD8Rl9Oqu"
      }
    },
    {
      "cell_type": "code",
      "source": [
        "def infinite_sequence():\n",
        "    cache_value = 0\n",
        "    while True:\n",
        "        cache_value += 1\n",
        "        yield cache_value\n",
        "\n",
        "gen = infinite_sequence()\n",
        "for _ in range(5):\n",
        "    print(next(gen))"
      ],
      "metadata": {
        "id": "Yotj0YMK-Avy",
        "outputId": "e9b02379-f575-44b3-cdd9-6f6562c9dd68",
        "colab": {
          "base_uri": "https://localhost:8080/"
        }
      },
      "execution_count": null,
      "outputs": [
        {
          "output_type": "stream",
          "name": "stdout",
          "text": [
            "1\n",
            "2\n",
            "3\n",
            "4\n",
            "5\n"
          ]
        }
      ]
    },
    {
      "cell_type": "markdown",
      "source": [
        "---\n",
        "\n",
        "### **Пункт №3. Генератор комбинированных списков**\n",
        "\n",
        "Создайте генератор `combined_lists(lst1, lst2)`, который попеременно возвращает элементы из `lst1` и `lst2`. Если длины списков неравны, генератор должен остановиться при исчерпании более короткого списка.\n",
        "\n",
        "```python\n",
        "# Пример использования:\n",
        "for item in combined_lists([1, 2, 3], ['a', 'b', 'c', 'd']):\n",
        "    print(item)\n",
        "# Вывод:\n",
        "# 1\n",
        "# 'a'\n",
        "# 2\n",
        "# 'b'\n",
        "# 3\n",
        "# 'c'\n",
        "```"
      ],
      "metadata": {
        "id": "rJQEC1n19KHE"
      }
    },
    {
      "cell_type": "markdown",
      "source": [
        "---"
      ],
      "metadata": {
        "id": "1h8fsmju-LQh"
      }
    },
    {
      "cell_type": "code",
      "source": [
        "from functools import *\n",
        "\n",
        "def combined_lists(list1: list, list2: list):\n",
        "\n",
        "  min_len_list = min([len(list1), len(list2)])\n",
        "\n",
        "  switched = False\n",
        "  index = 0\n",
        "  while index <= min_len_list + 2:\n",
        "    if(index >= min_len_list + 1):\n",
        "      yield list1[min_len_list - 1] if not switched else list2[min_len_list - 1]\n",
        "    else:\n",
        "      yield list1[:min_len_list][index - 1 if index > 0 else index ] if not switched else list2[:min_len_list][index - 2 if index > 2 else index - 1 ]\n",
        "\n",
        "    switched = not switched\n",
        "\n",
        "    index += 1\n",
        "\n",
        "for item in combined_lists([1, 2, 3], ['a', 'b', 'c', 'd']):\n",
        "    print(item)"
      ],
      "metadata": {
        "id": "_kcrlmgU-Bmz",
        "outputId": "7eba102c-a1c1-4376-b194-1df7d646bb19",
        "colab": {
          "base_uri": "https://localhost:8080/"
        }
      },
      "execution_count": null,
      "outputs": [
        {
          "output_type": "stream",
          "name": "stdout",
          "text": [
            "1\n",
            "a\n",
            "2\n",
            "b\n",
            "3\n",
            "c\n"
          ]
        }
      ]
    },
    {
      "cell_type": "markdown",
      "source": [
        "---\n",
        "\n",
        "### **Пункт №4. Генератор перевернутой строки**\n",
        "\n",
        "Напишите генератор `reverse_string(s)`, который при каждом вызове возвращает следующий символ строки `s` в обратном порядке.\n",
        "\n",
        "```python\n",
        "# Пример использования:\n",
        "for char in reverse_string('hello'):\n",
        "    print(char)\n",
        "# Вывод:\n",
        "# o\n",
        "# l\n",
        "# l\n",
        "# e\n",
        "# h\n",
        "```"
      ],
      "metadata": {
        "id": "CEXaNzJX9B1D"
      }
    },
    {
      "cell_type": "markdown",
      "source": [
        "---"
      ],
      "metadata": {
        "id": "L9WQ5Jpq-JaO"
      }
    },
    {
      "cell_type": "code",
      "source": [
        "def reverse_string(value: str):\n",
        "  for entry in value[::-1]:\n",
        "    yield entry\n",
        "\n",
        "for char in reverse_string('hello'):\n",
        "    print(char)"
      ],
      "metadata": {
        "id": "5w9xT0eR-CBf",
        "outputId": "4c9c2b8f-503d-4699-b6c3-d617103b8002",
        "colab": {
          "base_uri": "https://localhost:8080/"
        }
      },
      "execution_count": null,
      "outputs": [
        {
          "output_type": "stream",
          "name": "stdout",
          "text": [
            "o\n",
            "l\n",
            "l\n",
            "e\n",
            "h\n"
          ]
        }
      ]
    },
    {
      "cell_type": "markdown",
      "source": [
        "---\n",
        "\n",
        "### **Пункт №5. Генератор степеней двойки**\n",
        "\n",
        "Создайте генератор `powers_of_two(n)`, который возвращает степени двойки от 2^0 до 2^n.\n",
        "\n",
        "```python\n",
        "# Пример использования:\n",
        "for num in powers_of_two(5):\n",
        "    print(num)\n",
        "# Вывод:\n",
        "# 1  # 2^0\n",
        "# 2  # 2^1\n",
        "# 4  # 2^2\n",
        "# 8  # 2^3\n",
        "# 16 # 2^4\n",
        "# 32 # 2^5\n",
        "```\n",
        "\n",
        "---"
      ],
      "metadata": {
        "id": "GNykcs8D8-Je"
      }
    },
    {
      "cell_type": "code",
      "source": [
        "def powers_of_two(value: int):\n",
        "  for entry in range(1, value + 2):\n",
        "    yield 2 ** (entry - 1)\n",
        "\n",
        "for num in powers_of_two(6):\n",
        "    print(num)"
      ],
      "metadata": {
        "id": "LjNW3m-y-CXj",
        "outputId": "c9351c2c-4f43-45cd-bf91-04b594c53514",
        "colab": {
          "base_uri": "https://localhost:8080/"
        }
      },
      "execution_count": null,
      "outputs": [
        {
          "output_type": "stream",
          "name": "stdout",
          "text": [
            "1\n",
            "2\n",
            "4\n",
            "8\n",
            "16\n",
            "32\n",
            "64\n"
          ]
        }
      ]
    },
    {
      "cell_type": "markdown",
      "source": [
        "---"
      ],
      "metadata": {
        "id": "OU71icWn-Ggg"
      }
    },
    {
      "cell_type": "markdown",
      "source": [
        "### **Пункт №6. Генератор чисел из строки**\n",
        "\n",
        "Напишите генератор `number_extractor(s)`, который извлекает числа из заданной строки `s` и возвращает их как целые числа.\n",
        "\n",
        "```python\n",
        "# Пример использования:\n",
        "for num in number_extractor('abc123def45gh6'):\n",
        "    print(num)\n",
        "# Вывод:\n",
        "# 123\n",
        "# 45\n",
        "# 6\n",
        "```"
      ],
      "metadata": {
        "id": "w5gcNZCM829V"
      }
    },
    {
      "cell_type": "markdown",
      "source": [
        "---"
      ],
      "metadata": {
        "id": "oJt2kxt8-FUP"
      }
    },
    {
      "cell_type": "code",
      "source": [
        "def number_extractor(value: str):\n",
        "  index = 0\n",
        "\n",
        "  for entry in value:\n",
        "    if entry.isdigit():\n",
        "      if index == len(value) - 1 and entry.isdigit():\n",
        "        yield entry\n",
        "      else:\n",
        "        new_index = index\n",
        "        for i in range(index, len(value)):\n",
        "          if value[i].isdigit(): new_index += 1\n",
        "          else:\n",
        "            yield value[index:i]\n",
        "            break\n",
        "\n",
        "      index = new_index\n",
        "      continue\n",
        "\n",
        "    index += 1\n",
        "\n",
        "for num in number_extractor('abc1234def45gh6'):\n",
        "    print(num)"
      ],
      "metadata": {
        "id": "zDYVvuBX-C9M",
        "outputId": "13d88c3f-2edf-4099-aa98-f83a989dd0fe",
        "colab": {
          "base_uri": "https://localhost:8080/"
        }
      },
      "execution_count": null,
      "outputs": [
        {
          "output_type": "stream",
          "name": "stdout",
          "text": [
            "1234\n",
            "\n",
            "\n",
            "\n",
            "45\n",
            "\n",
            "6\n"
          ]
        }
      ]
    },
    {
      "cell_type": "markdown",
      "source": [
        "---"
      ],
      "metadata": {
        "id": "h6ztzyUn-D5n"
      }
    }
  ]
}