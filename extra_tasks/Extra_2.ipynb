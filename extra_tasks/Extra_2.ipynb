{
  "nbformat": 4,
  "nbformat_minor": 0,
  "metadata": {
    "colab": {
      "provenance": [],
      "authorship_tag": "ABX9TyO0h4bpiQN8fMJa8xD9eC+Z",
      "include_colab_link": true
    },
    "kernelspec": {
      "name": "python3",
      "display_name": "Python 3"
    },
    "language_info": {
      "name": "python"
    }
  },
  "cells": [
    {
      "cell_type": "markdown",
      "metadata": {
        "id": "view-in-github",
        "colab_type": "text"
      },
      "source": [
        "<a href=\"https://colab.research.google.com/github/Ingur-5967/university/blob/main/extra_tasks/Extra_2.ipynb\" target=\"_parent\"><img src=\"https://colab.research.google.com/assets/colab-badge.svg\" alt=\"Open In Colab\"/></a>"
      ]
    },
    {
      "cell_type": "code",
      "execution_count": 2,
      "metadata": {
        "colab": {
          "base_uri": "https://localhost:8080/"
        },
        "id": "mjSV9pc0BTpX",
        "outputId": "3ffc8605-ddfa-4645-feff-96eaf64acc8d"
      },
      "outputs": [
        {
          "name": "stdout",
          "output_type": "stream",
          "text": [
            "1. Добавить контакт\n",
            "2. Удалить контакт\n",
            "3. Показать все контакты\n",
            "4. Изменить номер\n",
            "5. Выход\n",
            "\n",
            "Выберите категорию: 5\n"
          ]
        }
      ],
      "source": [
        "information = [\n",
        "    \"1. Добавить контакт\",\n",
        "    \"2. Удалить контакт\",\n",
        "    \"3. Показать все контакты\",\n",
        "    \"4. Изменить номер\",\n",
        "    \"5. Выход\"\n",
        "]\n",
        "\n",
        "option = None\n",
        "container = {}\n",
        "\n",
        "\n",
        "def edit_contact(name: str, number: str) -> dict:\n",
        "    container[reformat_name(name)] = reformat_number(number)\n",
        "    return container\n",
        "\n",
        "\n",
        "def delete_contact(name: str) -> None:\n",
        "    container.__delitem__(name)\n",
        "\n",
        "\n",
        "def view_all() -> None:\n",
        "    if len(container) == 0:\n",
        "        print(\"Контактов нет\")\n",
        "        pass\n",
        "\n",
        "    for item in container.items():\n",
        "        print(' '.join(item))\n",
        "\n",
        "\n",
        "def reformat_name(value: str) -> str:\n",
        "    array = value.split(\" \")\n",
        "\n",
        "    for index in range(len(array)):\n",
        "        array[index] = array[index][0].upper() + array[index][1:len(array[index])].lower()\n",
        "\n",
        "    return ' '.join(array)\n",
        "\n",
        "\n",
        "def reformat_number(value: str) -> str:\n",
        "    if len(value) < 10: return \"Invalid\"\n",
        "\n",
        "    if len(value) == 11:\n",
        "        return value.replace(value[0], '+7', 1)\n",
        "\n",
        "    return '+7' + value\n",
        "\n",
        "\n",
        "while True:\n",
        "    print('\\n'.join(information))\n",
        "    option = input(\"\\nВыберите категорию: \")\n",
        "\n",
        "    if not option.isdigit():\n",
        "        continue\n",
        "\n",
        "    if int(option) not in [1, 2, 3, 4, 5]:\n",
        "        continue\n",
        "\n",
        "    if int(option) == 5:\n",
        "        break\n",
        "\n",
        "    option_choice = {\n",
        "        1: lambda _: edit_contact(input(\"Введите имя: \"), input(\"Введите телефон: \")),\n",
        "        2: lambda _: delete_contact(input(\"Введите имя: \")),\n",
        "        3: lambda _: view_all(),\n",
        "        4: lambda _: edit_contact(input(\"Введите имя: \"), input(\"Введите телефон: \")),\n",
        "    }\n",
        "\n",
        "    option_choice.get(int(option), 5)(None)\n"
      ]
    }
  ]
}