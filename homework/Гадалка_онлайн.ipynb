{
  "nbformat": 4,
  "nbformat_minor": 0,
  "metadata": {
    "colab": {
      "provenance": [],
      "authorship_tag": "ABX9TyMOZ2yGSGZe3Q3m9psiHUB7",
      "include_colab_link": true
    },
    "kernelspec": {
      "name": "python3",
      "display_name": "Python 3"
    },
    "language_info": {
      "name": "python"
    }
  },
  "cells": [
    {
      "cell_type": "markdown",
      "metadata": {
        "id": "view-in-github",
        "colab_type": "text"
      },
      "source": [
        "<a href=\"https://colab.research.google.com/github/Ingur-5967/university/blob/main/homework/%D0%93%D0%B0%D0%B4%D0%B0%D0%BB%D0%BA%D0%B0_%D0%BE%D0%BD%D0%BB%D0%B0%D0%B9%D0%BD.ipynb\" target=\"_parent\"><img src=\"https://colab.research.google.com/assets/colab-badge.svg\" alt=\"Open In Colab\"/></a>"
      ]
    },
    {
      "cell_type": "code",
      "execution_count": 5,
      "metadata": {
        "colab": {
          "base_uri": "https://localhost:8080/"
        },
        "id": "lJ7cywk6kvrZ",
        "outputId": "7b2efdfc-c5f5-4408-ba6c-9559770115a0"
      },
      "outputs": [
        {
          "output_type": "stream",
          "name": "stdout",
          "text": [
            "Введите нижнее ограничение: 5\n",
            "Введите верхнее ограничение: 8\n",
            "Введите число: 5\n",
            "Загаданное число больше.\n",
            "Введите число: 7\n",
            "Вы угадали число 7 всего за 2 раз(-а)\n"
          ]
        }
      ],
      "source": [
        "import random\n",
        "\n",
        "first, second = int(input(\"Введите нижнее ограничение: \")), int(input(\"Введите верхнее ограничение: \"))\n",
        "target = random.randint(first, second)\n",
        "\n",
        "count_attemps = 0\n",
        "entered_value = None\n",
        "\n",
        "while entered_value != target:\n",
        "  entered_value = int(input(\"Введите число: \"))\n",
        "  count_attemps += 1\n",
        "\n",
        "  if entered_value < target:  print(\"Загаданное число больше.\")\n",
        "  elif entered_value > target: print(\"Загаданное число меньше.\")\n",
        "  else: break\n",
        "\n",
        "print(f\"Вы угадали число {target} всего за {count_attemps} раз(-а)\")\n"
      ]
    }
  ]
}